{
 "cells": [
  {
   "cell_type": "markdown",
   "metadata": {},
   "source": [
    "# OPENCV'DE KENAR TESPİTİ ALGORİTMALARI\n",
    "* SOBEL X\n",
    "* SOBEL Y\n",
    "* SOBEL X + SOBEL Y\n",
    "* LAPLACIAN\n",
    "* CANNY"
   ]
  },
  {
   "cell_type": "code",
   "execution_count": 2,
   "metadata": {},
   "outputs": [],
   "source": [
    "import cv2\n",
    "import numpy as np\n",
    "\n",
    "image=cv2.imread(\"enes_polat.jpg\",0)\n",
    "\n",
    "height, width = image.shape\n",
    "\n",
    "sobel_x=cv2.Sobel(image,cv2.CV_64F,0,1,ksize=5)\n",
    "sobel_y=cv2.Sobel(image,cv2.CV_64F,1,0,ksize=5)\n",
    "\n",
    "\n",
    "cv2.imshow(\"orjinal\",image)\n",
    "cv2.waitKey(0)\n",
    "cv2.imshow(\"sobel X\",sobel_x)\n",
    "cv2.waitKey(0)\n",
    "cv2.imshow(\"sobel Y\",sobel_y)\n",
    "cv2.waitKey(0)\n",
    "\n",
    "sobel_OR=cv2.bitwise_or(sobel_x,sobel_y)\n",
    "cv2.imshow(\"sobel or\",sobel_OR)\n",
    "cv2.waitKey(0)\n",
    "\n",
    "laplacian=cv2.Laplacian(image,cv2.CV_64F)\n",
    "cv2.imshow(\"laplacian\",laplacian)\n",
    "cv2.waitKey(0)\n",
    "\n",
    "\n",
    "canny=cv2.Canny(image,50,170)\n",
    "cv2.imshow('canny',canny)\n",
    "cv2.waitKey(0)\n",
    "\n",
    "cv2.destroyAllWindows()"
   ]
  },
  {
   "cell_type": "markdown",
   "metadata": {},
   "source": [
    "# Umarım faydalı olmuştur"
   ]
  }
 ],
 "metadata": {
  "kernelspec": {
   "display_name": "Python 3",
   "language": "python",
   "name": "python3"
  },
  "language_info": {
   "codemirror_mode": {
    "name": "ipython",
    "version": 3
   },
   "file_extension": ".py",
   "mimetype": "text/x-python",
   "name": "python",
   "nbconvert_exporter": "python",
   "pygments_lexer": "ipython3",
   "version": "3.6.10"
  }
 },
 "nbformat": 4,
 "nbformat_minor": 4
}
